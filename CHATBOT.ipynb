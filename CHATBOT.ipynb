{
  "nbformat": 4,
  "nbformat_minor": 0,
  "metadata": {
    "colab": {
      "provenance": []
    },
    "kernelspec": {
      "name": "python3",
      "display_name": "Python 3"
    },
    "language_info": {
      "name": "python"
    }
  },
  "cells": [
    {
      "cell_type": "code",
      "execution_count": 1,
      "metadata": {
        "colab": {
          "base_uri": "https://localhost:8080/"
        },
        "id": "VG_qkmZb_IFQ",
        "outputId": "8f9f2fb3-5560-4115-9fb6-39825bd1e40f"
      },
      "outputs": [
        {
          "output_type": "stream",
          "name": "stdout",
          "text": [
            "Reading package lists... Done\n",
            "Building dependency tree... Done\n",
            "Reading state information... Done\n",
            "tesseract-ocr is already the newest version (4.1.1-2.1build1).\n",
            "0 upgraded, 0 newly installed, 0 to remove and 35 not upgraded.\n",
            "Requirement already satisfied: pytesseract in /usr/local/lib/python3.12/dist-packages (0.3.13)\n",
            "Requirement already satisfied: pillow in /usr/local/lib/python3.12/dist-packages (11.3.0)\n",
            "Requirement already satisfied: packaging>=21.3 in /usr/local/lib/python3.12/dist-packages (from pytesseract) (25.0)\n"
          ]
        }
      ],
      "source": [
        "!apt install tesseract-ocr -y\n",
        "!pip install pytesseract pillow\n"
      ]
    },
    {
      "cell_type": "code",
      "source": [
        "import pytesseract\n",
        "from PIL import Image\n",
        "from google.colab import files\n",
        "import json\n",
        "import os\n",
        "\n",
        "# Upload your image\n",
        "uploaded = files.upload()  # choose your medical report image (e.g., report.jpg)\n",
        "\n",
        "# Load the uploaded image\n",
        "image_path = list(uploaded.keys())[0]\n",
        "img = Image.open(image_path)\n",
        "\n",
        "# OCR extraction\n",
        "extracted_text = pytesseract.image_to_string(img).replace(\"\\n\", \" \").strip()\n",
        "\n",
        "# Convert directly to JSON schema your chatbot uses\n",
        "ocr_entry = {\n",
        "    \"question\": \"What does the uploaded medical report contain?\",\n",
        "    \"answers\": [extracted_text],\n",
        "    \"context\": \"OCR extracted text from medical image\"\n",
        "}\n",
        "\n",
        "# Create the 'knowledge' directory if it doesn't exist\n",
        "if not os.path.exists(\"knowledge\"):\n",
        "    os.makedirs(\"knowledge\")\n",
        "\n",
        "# Save JSON\n",
        "with open(\"knowledge/ocr_report.json\", \"w\") as f:\n",
        "    json.dump([ocr_entry], f, indent=4)\n",
        "\n",
        "print(\"✅ OCR text saved directly as JSON in knowledge/ocr_report.json\")\n",
        "print(json.dumps(ocr_entry, indent=4))"
      ],
      "metadata": {
        "colab": {
          "base_uri": "https://localhost:8080/",
          "height": 231
        },
        "id": "Sa453UwtAGlr",
        "outputId": "74f7dda9-8685-4ca5-c836-c745daf98815"
      },
      "execution_count": 2,
      "outputs": [
        {
          "output_type": "display_data",
          "data": {
            "text/plain": [
              "<IPython.core.display.HTML object>"
            ],
            "text/html": [
              "\n",
              "     <input type=\"file\" id=\"files-7d694295-1625-4c23-a84b-1037f9acfb73\" name=\"files[]\" multiple disabled\n",
              "        style=\"border:none\" />\n",
              "     <output id=\"result-7d694295-1625-4c23-a84b-1037f9acfb73\">\n",
              "      Upload widget is only available when the cell has been executed in the\n",
              "      current browser session. Please rerun this cell to enable.\n",
              "      </output>\n",
              "      <script>// Copyright 2017 Google LLC\n",
              "//\n",
              "// Licensed under the Apache License, Version 2.0 (the \"License\");\n",
              "// you may not use this file except in compliance with the License.\n",
              "// You may obtain a copy of the License at\n",
              "//\n",
              "//      http://www.apache.org/licenses/LICENSE-2.0\n",
              "//\n",
              "// Unless required by applicable law or agreed to in writing, software\n",
              "// distributed under the License is distributed on an \"AS IS\" BASIS,\n",
              "// WITHOUT WARRANTIES OR CONDITIONS OF ANY KIND, either express or implied.\n",
              "// See the License for the specific language governing permissions and\n",
              "// limitations under the License.\n",
              "\n",
              "/**\n",
              " * @fileoverview Helpers for google.colab Python module.\n",
              " */\n",
              "(function(scope) {\n",
              "function span(text, styleAttributes = {}) {\n",
              "  const element = document.createElement('span');\n",
              "  element.textContent = text;\n",
              "  for (const key of Object.keys(styleAttributes)) {\n",
              "    element.style[key] = styleAttributes[key];\n",
              "  }\n",
              "  return element;\n",
              "}\n",
              "\n",
              "// Max number of bytes which will be uploaded at a time.\n",
              "const MAX_PAYLOAD_SIZE = 100 * 1024;\n",
              "\n",
              "function _uploadFiles(inputId, outputId) {\n",
              "  const steps = uploadFilesStep(inputId, outputId);\n",
              "  const outputElement = document.getElementById(outputId);\n",
              "  // Cache steps on the outputElement to make it available for the next call\n",
              "  // to uploadFilesContinue from Python.\n",
              "  outputElement.steps = steps;\n",
              "\n",
              "  return _uploadFilesContinue(outputId);\n",
              "}\n",
              "\n",
              "// This is roughly an async generator (not supported in the browser yet),\n",
              "// where there are multiple asynchronous steps and the Python side is going\n",
              "// to poll for completion of each step.\n",
              "// This uses a Promise to block the python side on completion of each step,\n",
              "// then passes the result of the previous step as the input to the next step.\n",
              "function _uploadFilesContinue(outputId) {\n",
              "  const outputElement = document.getElementById(outputId);\n",
              "  const steps = outputElement.steps;\n",
              "\n",
              "  const next = steps.next(outputElement.lastPromiseValue);\n",
              "  return Promise.resolve(next.value.promise).then((value) => {\n",
              "    // Cache the last promise value to make it available to the next\n",
              "    // step of the generator.\n",
              "    outputElement.lastPromiseValue = value;\n",
              "    return next.value.response;\n",
              "  });\n",
              "}\n",
              "\n",
              "/**\n",
              " * Generator function which is called between each async step of the upload\n",
              " * process.\n",
              " * @param {string} inputId Element ID of the input file picker element.\n",
              " * @param {string} outputId Element ID of the output display.\n",
              " * @return {!Iterable<!Object>} Iterable of next steps.\n",
              " */\n",
              "function* uploadFilesStep(inputId, outputId) {\n",
              "  const inputElement = document.getElementById(inputId);\n",
              "  inputElement.disabled = false;\n",
              "\n",
              "  const outputElement = document.getElementById(outputId);\n",
              "  outputElement.innerHTML = '';\n",
              "\n",
              "  const pickedPromise = new Promise((resolve) => {\n",
              "    inputElement.addEventListener('change', (e) => {\n",
              "      resolve(e.target.files);\n",
              "    });\n",
              "  });\n",
              "\n",
              "  const cancel = document.createElement('button');\n",
              "  inputElement.parentElement.appendChild(cancel);\n",
              "  cancel.textContent = 'Cancel upload';\n",
              "  const cancelPromise = new Promise((resolve) => {\n",
              "    cancel.onclick = () => {\n",
              "      resolve(null);\n",
              "    };\n",
              "  });\n",
              "\n",
              "  // Wait for the user to pick the files.\n",
              "  const files = yield {\n",
              "    promise: Promise.race([pickedPromise, cancelPromise]),\n",
              "    response: {\n",
              "      action: 'starting',\n",
              "    }\n",
              "  };\n",
              "\n",
              "  cancel.remove();\n",
              "\n",
              "  // Disable the input element since further picks are not allowed.\n",
              "  inputElement.disabled = true;\n",
              "\n",
              "  if (!files) {\n",
              "    return {\n",
              "      response: {\n",
              "        action: 'complete',\n",
              "      }\n",
              "    };\n",
              "  }\n",
              "\n",
              "  for (const file of files) {\n",
              "    const li = document.createElement('li');\n",
              "    li.append(span(file.name, {fontWeight: 'bold'}));\n",
              "    li.append(span(\n",
              "        `(${file.type || 'n/a'}) - ${file.size} bytes, ` +\n",
              "        `last modified: ${\n",
              "            file.lastModifiedDate ? file.lastModifiedDate.toLocaleDateString() :\n",
              "                                    'n/a'} - `));\n",
              "    const percent = span('0% done');\n",
              "    li.appendChild(percent);\n",
              "\n",
              "    outputElement.appendChild(li);\n",
              "\n",
              "    const fileDataPromise = new Promise((resolve) => {\n",
              "      const reader = new FileReader();\n",
              "      reader.onload = (e) => {\n",
              "        resolve(e.target.result);\n",
              "      };\n",
              "      reader.readAsArrayBuffer(file);\n",
              "    });\n",
              "    // Wait for the data to be ready.\n",
              "    let fileData = yield {\n",
              "      promise: fileDataPromise,\n",
              "      response: {\n",
              "        action: 'continue',\n",
              "      }\n",
              "    };\n",
              "\n",
              "    // Use a chunked sending to avoid message size limits. See b/62115660.\n",
              "    let position = 0;\n",
              "    do {\n",
              "      const length = Math.min(fileData.byteLength - position, MAX_PAYLOAD_SIZE);\n",
              "      const chunk = new Uint8Array(fileData, position, length);\n",
              "      position += length;\n",
              "\n",
              "      const base64 = btoa(String.fromCharCode.apply(null, chunk));\n",
              "      yield {\n",
              "        response: {\n",
              "          action: 'append',\n",
              "          file: file.name,\n",
              "          data: base64,\n",
              "        },\n",
              "      };\n",
              "\n",
              "      let percentDone = fileData.byteLength === 0 ?\n",
              "          100 :\n",
              "          Math.round((position / fileData.byteLength) * 100);\n",
              "      percent.textContent = `${percentDone}% done`;\n",
              "\n",
              "    } while (position < fileData.byteLength);\n",
              "  }\n",
              "\n",
              "  // All done.\n",
              "  yield {\n",
              "    response: {\n",
              "      action: 'complete',\n",
              "    }\n",
              "  };\n",
              "}\n",
              "\n",
              "scope.google = scope.google || {};\n",
              "scope.google.colab = scope.google.colab || {};\n",
              "scope.google.colab._files = {\n",
              "  _uploadFiles,\n",
              "  _uploadFilesContinue,\n",
              "};\n",
              "})(self);\n",
              "</script> "
            ]
          },
          "metadata": {}
        },
        {
          "output_type": "stream",
          "name": "stdout",
          "text": [
            "Saving pp-plus-activity-report-1024x880-768x660.png to pp-plus-activity-report-1024x880-768x660.png\n",
            "✅ OCR text saved directly as JSON in knowledge/ocr_report.json\n",
            "{\n",
            "    \"question\": \"What does the uploaded medical report contain?\",\n",
            "    \"answers\": [\n",
            "        \"Physiopedia Plus Activity Report  Name: John Smith  Joined PP+: 25th Aug 2015  Report generated: ath Feb 2016  \\u2018Activity for period: 1st Jan 2016 - 9th Feb 2016 (39 days)     Highlights Total PP+ points awarded: 20.1  PP+ Leam topics completed: 1 = Tendinopathy  PP+ Badges awarded: 2 ~75 Physiopedia pages completely read = 50 journal articles completely read  Gon Ww              Activity log Number of activities logged during this period: 46  Date Typ0 Detas Topic Engagement '3170172016 [Embedded video | interview with Alison Hoens-tendinopathy took. Tendinopathy Viewed completly [3170172016 | Jourral arte [Physiotherapy management oflateral epicondyaigia | Tendinopathy Read completly 3170372016 | Journal arid [A reatment algorithm fr managing Achiles tondin Tendinopathy Read completely\"\n",
            "    ],\n",
            "    \"context\": \"OCR extracted text from medical image\"\n",
            "}\n"
          ]
        }
      ]
    },
    {
      "cell_type": "code",
      "source": [
        "# Add OCR report into chunks\n",
        "with open(\"report.txt\", \"r\") as f:\n",
        "    ocr_text = f.read()\n",
        "\n",
        "chunks.append(f\"OCR Report: {ocr_text}\")\n"
      ],
      "metadata": {
        "id": "MJVQJ104CVoq"
      },
      "execution_count": null,
      "outputs": []
    },
    {
      "cell_type": "code",
      "metadata": {
        "colab": {
          "base_uri": "https://localhost:8080/",
          "height": 191
        },
        "id": "37470459",
        "outputId": "6a082bc1-6221-4103-90db-bf7774f6eb0d"
      },
      "source": [
        "# Add OCR report into chunks\n",
        "with open(\"report.txt\", \"r\") as f:\n",
        "    ocr_text = f.read()\n",
        "\n",
        "chunks = []  # Initialize chunks as an empty list\n",
        "chunks.append(f\"OCR Report: {ocr_text}\")\n",
        "\n",
        "display(chunks)"
      ],
      "execution_count": null,
      "outputs": [
        {
          "output_type": "display_data",
          "data": {
            "text/plain": [
              "['OCR Report: Gem PHYSIOTHERAPY CASE HISTORY FORM     To help us prepare for your TELEHEALTH appointment, we need some information about how you are currently feeling and managing your health condition, as well as information about your history. This information will help us get a thorough understanding of your medical history and presenting complaint and the difficulties you are experiencing. It will also allow us to provide the most accurate assessment and treatment during your TELEHEALTH appointment.     PLEASE COMPLETE THE FOLLOWING QUESTIONS AS FULLY AND ACCURATELY AS.                                      POSSIBLE PERSONAL DETAILS Name: Date of Birth: Date: ‘Sex: Male [ ] Female[ ] Other] | Parent/Guardian Name (if applicable): Phone Number (home): Phone Number (mobile): Address: Email: Primary LanguageSpoken: (Other Languages Spoken: Please Tick if you identify as any of the following: Aboriginal Torres Strait Islander Refugee Non-English-speaking background                                         REASON FOR CONCERN        Please select your area|s) of pain by adding a ‘sticky note’ these images           Please tick the appropriate | | response below Lf 1s your pain... j  Deep[_fuperficial(] Intermittent [Jconstant 2] Sharp[phooting(] BurningCJstingingL] Throbbing Joiffuse[]  Do you have any: - pins & Needles Yes[Jno[] | | Have you ever experienced any of the following:  wirabasss ves[-hol] Clicking(—]Locking[]Popping[_|Grinding[_|Giving way/Feeling unstable Tingling ves NOL] IFES ~ please provide details:                                                    Please describe your primary concern(s):                    ‘CQU Physiotherapy Patient History Form Version 1.0 April 2020']"
            ]
          },
          "metadata": {}
        }
      ]
    },
    {
      "cell_type": "markdown",
      "metadata": {
        "id": "2fb5f5ce"
      },
      "source": [
        "To use the Gemini API, you'll need an API key. If you don't already have one, create a key in Google AI Studio.\n",
        "In Colab, add the key to the secrets manager under the \"🔑\" in the left panel. Give it the name `GOOGLE_API_KEY`. Then pass the key to the SDK:"
      ]
    },
    {
      "cell_type": "markdown",
      "metadata": {
        "id": "00153172"
      },
      "source": [
        "Before you can make any API calls, you need to initialize the Generative Model."
      ]
    },
    {
      "cell_type": "code",
      "metadata": {
        "id": "aacbb6f3"
      },
      "source": [
        "# Initialize the Gemini API\n",
        "gemini_model = genai.GenerativeModel('gemini-2.5-flash-preview-04-17')"
      ],
      "execution_count": null,
      "outputs": []
    },
    {
      "cell_type": "markdown",
      "metadata": {
        "id": "db251757"
      },
      "source": [
        "Now, you can use the extracted text from the report as context and ask a question using the model:"
      ]
    },
    {
      "cell_type": "code",
      "metadata": {
        "colab": {
          "base_uri": "https://localhost:8080/"
        },
        "id": "6ac5a021",
        "outputId": "3c29abe8-d16c-43a2-8319-a985f4e68a3e"
      },
      "source": [
        "import json\n",
        "\n",
        "file_path = \"knowledge/ocr_report.json\"\n",
        "\n",
        "# Load the JSON data from the file\n",
        "with open(file_path, \"r\") as f:\n",
        "    loaded_data = json.load(f)\n",
        "\n",
        "# Now 'loaded_data' contains the content of your JSON file\n",
        "# You can print it to see its structure and content\n",
        "print(loaded_data)"
      ],
      "execution_count": null,
      "outputs": [
        {
          "output_type": "stream",
          "name": "stdout",
          "text": [
            "[{'question': 'What does the uploaded medical report contain?', 'answers': [\"Physiopedia Plus Activity Report  Name: John Smith  Joined PP+: 25th Aug 2015  Report generated: ath Feb 2016  ‘Activity for period: 1st Jan 2016 - 9th Feb 2016 (39 days)     Highlights Total PP+ points awarded: 20.1  PP+ Leam topics completed: 1 = Tendinopathy  PP+ Badges awarded: 2 ~75 Physiopedia pages completely read = 50 journal articles completely read  Gon Ww              Activity log Number of activities logged during this period: 46  Date Typ0 Detas Topic Engagement '3170172016 [Embedded video | interview with Alison Hoens-tendinopathy took. Tendinopathy Viewed completly [3170172016 | Jourral arte [Physiotherapy management oflateral epicondyaigia | Tendinopathy Read completly 3170372016 | Journal arid [A reatment algorithm fr managing Achiles tondin Tendinopathy Read completely\"], 'context': 'OCR extracted text from medical image'}]\n"
          ]
        }
      ]
    }
  ]
}